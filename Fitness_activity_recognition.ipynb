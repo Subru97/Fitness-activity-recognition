{
  "nbformat": 4,
  "nbformat_minor": 0,
  "metadata": {
    "colab": {
      "name": "Fitness activity recognition.ipynb",
      "provenance": [],
      "authorship_tag": "ABX9TyO0YFNleipfQT2q2/R6QqJd",
      "include_colab_link": true
    },
    "kernelspec": {
      "name": "python3",
      "display_name": "Python 3"
    },
    "accelerator": "GPU"
  },
  "cells": [
    {
      "cell_type": "markdown",
      "metadata": {
        "id": "view-in-github",
        "colab_type": "text"
      },
      "source": [
        "<a href=\"https://colab.research.google.com/github/Subru97/Fitness-activity-recognition/blob/master/Fitness_activity_recognition.ipynb\" target=\"_parent\"><img src=\"https://colab.research.google.com/assets/colab-badge.svg\" alt=\"Open In Colab\"/></a>"
      ]
    },
    {
      "cell_type": "code",
      "metadata": {
        "id": "rYCCH9K9Hytb",
        "colab_type": "code",
        "colab": {
          "base_uri": "https://localhost:8080/",
          "height": 124
        },
        "outputId": "796cb979-ea77-4d99-8b15-9dfadba57974"
      },
      "source": [
        "from google.colab import drive\n",
        "drive.mount('/content/drive/')"
      ],
      "execution_count": 6,
      "outputs": [
        {
          "output_type": "stream",
          "text": [
            "Go to this URL in a browser: https://accounts.google.com/o/oauth2/auth?client_id=947318989803-6bn6qk8qdgf4n4g3pfee6491hc0brc4i.apps.googleusercontent.com&redirect_uri=urn%3aietf%3awg%3aoauth%3a2.0%3aoob&scope=email%20https%3a%2f%2fwww.googleapis.com%2fauth%2fdocs.test%20https%3a%2f%2fwww.googleapis.com%2fauth%2fdrive%20https%3a%2f%2fwww.googleapis.com%2fauth%2fdrive.photos.readonly%20https%3a%2f%2fwww.googleapis.com%2fauth%2fpeopleapi.readonly&response_type=code\n",
            "\n",
            "Enter your authorization code:\n",
            "4/3wEidOQlvHSa0woLjnAO7ZrE1J67LLHA8ixFU-8MEl0xvQAXukVcP84\n",
            "Mounted at /content/drive/\n"
          ],
          "name": "stdout"
        }
      ]
    },
    {
      "cell_type": "code",
      "metadata": {
        "id": "c9kV6IHzLEGX",
        "colab_type": "code",
        "colab": {
          "base_uri": "https://localhost:8080/",
          "height": 35
        },
        "outputId": "a54376cc-dda4-41cb-b15c-3084162c33c8"
      },
      "source": [
        "!ls '/content/drive/My Drive/video_data'"
      ],
      "execution_count": 7,
      "outputs": [
        {
          "output_type": "stream",
          "text": [
            "JumpingJack  JumpRope  Lunges  PullUps\tPushUps\n"
          ],
          "name": "stdout"
        }
      ]
    },
    {
      "cell_type": "code",
      "metadata": {
        "id": "ECem4sf6JWyg",
        "colab_type": "code",
        "colab": {}
      },
      "source": [
        "import keras\n",
        "from keras import applications\n",
        "from keras.preprocessing.image import ImageDataGenerator\n",
        "from keras import optimizers\n",
        "from keras.models import Sequential, Model \n",
        "from keras.layers import *\n",
        "from keras.callbacks import ModelCheckpoint, LearningRateScheduler, TensorBoard, EarlyStopping\n",
        " \n",
        "import os\n",
        "import cv2\n",
        "import numpy as np\n",
        "from sklearn.model_selection import train_test_split\n",
        " \n",
        "from sklearn.metrics import accuracy_score\n",
        "from sklearn.metrics import precision_score\n",
        "from sklearn.metrics import recall_score\n",
        "from sklearn.metrics import f1_score\n",
        "from sklearn.metrics import cohen_kappa_score\n",
        "from sklearn.metrics import roc_auc_score\n",
        "from sklearn.metrics import multilabel_confusion_matrix\n",
        "from sklearn.metrics import classification_report"
      ],
      "execution_count": 24,
      "outputs": []
    },
    {
      "cell_type": "code",
      "metadata": {
        "id": "F3KmcMJOKJwb",
        "colab_type": "code",
        "colab": {}
      },
      "source": [
        "data_dir = \"/content/drive/My Drive/video_data\"\n",
        "img_height , img_width = 64, 64\n",
        "seq_len = 70\n",
        " \n",
        "classes = [\"JumpingJack\", \"JumpRope\", \"Lunges\", \"PullUps\", \"PushUps\"]"
      ],
      "execution_count": 36,
      "outputs": []
    },
    {
      "cell_type": "code",
      "metadata": {
        "id": "dPvNBnWkKZbY",
        "colab_type": "code",
        "colab": {}
      },
      "source": [
        "def frames_extraction(video_path):\n",
        "    frames_list = []\n",
        "    \n",
        "    vidObj = cv2.VideoCapture(video_path)\n",
        "    # Used as counter variable \n",
        "    count = 1\n",
        " \n",
        "    while count <= seq_len: \n",
        "         \n",
        "        success, image = vidObj.read() \n",
        "        if success:\n",
        "            image = cv2.resize(image, (img_height, img_width))\n",
        "            frames_list.append(image)\n",
        "            count += 1\n",
        "        else:\n",
        "            print(\"Defected frame\")\n",
        "            break\n",
        " \n",
        "            \n",
        "    return frames_list"
      ],
      "execution_count": 11,
      "outputs": []
    },
    {
      "cell_type": "code",
      "metadata": {
        "id": "CZOfUDbpKZ9m",
        "colab_type": "code",
        "colab": {}
      },
      "source": [
        "def create_data(input_dir):\n",
        "    X = []\n",
        "    Y = []\n",
        "     \n",
        "    classes_list = os.listdir(input_dir)\n",
        "     \n",
        "    for c in classes_list:\n",
        "        print(c)\n",
        "        files_list = os.listdir(os.path.join(input_dir, c))\n",
        "        for f in files_list:\n",
        "            frames = frames_extraction(os.path.join(os.path.join(input_dir, c), f))\n",
        "            if len(frames) == seq_len:\n",
        "                X.append(frames)\n",
        "             \n",
        "                y = [0]*len(classes)\n",
        "                y[classes.index(c)] = 1\n",
        "                Y.append(y)\n",
        "     \n",
        "    X = np.asarray(X)\n",
        "    Y = np.asarray(Y)\n",
        "    return X, Y"
      ],
      "execution_count": 12,
      "outputs": []
    },
    {
      "cell_type": "code",
      "metadata": {
        "id": "GrVFVIgmKaVI",
        "colab_type": "code",
        "colab": {}
      },
      "source": [
        "model = Sequential()\n",
        "model.add(ConvLSTM2D(filters = 64, kernel_size = (3, 3), return_sequences = False, data_format = \"channels_last\", input_shape = (seq_len, img_height, img_width, 3)))\n",
        "model.add(Dropout(0.2))\n",
        "model.add(Flatten())\n",
        "model.add(Dense(256, activation=\"relu\"))\n",
        "model.add(Dropout(0.3))\n",
        "model.add(Dense(5, activation = \"softmax\"))"
      ],
      "execution_count": 13,
      "outputs": []
    },
    {
      "cell_type": "code",
      "metadata": {
        "id": "tWya0MrcKag2",
        "colab_type": "code",
        "colab": {}
      },
      "source": [
        "opt = keras.optimizers.SGD(lr=0.001)\n",
        "model.compile(loss='categorical_crossentropy', optimizer=opt, metrics=[\"accuracy\"])"
      ],
      "execution_count": 14,
      "outputs": []
    },
    {
      "cell_type": "code",
      "metadata": {
        "id": "P3KiMNvvKaHy",
        "colab_type": "code",
        "colab": {}
      },
      "source": [
        "earlystop = EarlyStopping(patience=7)\n",
        "callbacks = [earlystop]"
      ],
      "execution_count": 15,
      "outputs": []
    },
    {
      "cell_type": "code",
      "metadata": {
        "id": "US32uz37KZu5",
        "colab_type": "code",
        "colab": {
          "base_uri": "https://localhost:8080/",
          "height": 1000
        },
        "outputId": "ab10f187-a10b-47c7-9ced-f1e071fdc07e"
      },
      "source": [
        "X, Y = create_data(data_dir)\n",
        " \n",
        "X_train, X_test, y_train, y_test = train_test_split(X, Y, test_size=0.20, shuffle=True, random_state=0)"
      ],
      "execution_count": 38,
      "outputs": [
        {
          "output_type": "stream",
          "text": [
            "PushUps\n",
            "Defected frame\n",
            "Defected frame\n",
            "Defected frame\n",
            "Defected frame\n",
            "Defected frame\n",
            "Defected frame\n",
            "Defected frame\n",
            "Defected frame\n",
            "Defected frame\n",
            "Defected frame\n",
            "Defected frame\n",
            "Defected frame\n",
            "Defected frame\n",
            "Defected frame\n",
            "Defected frame\n",
            "Defected frame\n",
            "Defected frame\n",
            "Defected frame\n",
            "Defected frame\n",
            "Defected frame\n",
            "Defected frame\n",
            "Defected frame\n",
            "Defected frame\n",
            "Defected frame\n",
            "Defected frame\n",
            "Defected frame\n",
            "Defected frame\n",
            "Lunges\n",
            "Defected frame\n",
            "Defected frame\n",
            "Defected frame\n",
            "Defected frame\n",
            "JumpingJack\n",
            "Defected frame\n",
            "Defected frame\n",
            "Defected frame\n",
            "Defected frame\n",
            "Defected frame\n",
            "Defected frame\n",
            "Defected frame\n",
            "Defected frame\n",
            "Defected frame\n",
            "Defected frame\n",
            "Defected frame\n",
            "Defected frame\n",
            "Defected frame\n",
            "Defected frame\n",
            "Defected frame\n",
            "Defected frame\n",
            "Defected frame\n",
            "Defected frame\n",
            "Defected frame\n",
            "PullUps\n",
            "Defected frame\n",
            "Defected frame\n",
            "JumpRope\n"
          ],
          "name": "stdout"
        }
      ]
    },
    {
      "cell_type": "code",
      "metadata": {
        "id": "IT0qxco5bBHy",
        "colab_type": "code",
        "colab": {
          "base_uri": "https://localhost:8080/",
          "height": 35
        },
        "outputId": "42057806-dca2-4374-b9c2-916f07bf9c88"
      },
      "source": [
        "X_train.shape"
      ],
      "execution_count": 20,
      "outputs": [
        {
          "output_type": "execute_result",
          "data": {
            "text/plain": [
              "(468, 70, 64, 64, 3)"
            ]
          },
          "metadata": {
            "tags": []
          },
          "execution_count": 20
        }
      ]
    },
    {
      "cell_type": "code",
      "metadata": {
        "id": "aInA9xgWKZF7",
        "colab_type": "code",
        "colab": {
          "base_uri": "https://localhost:8080/",
          "height": 731
        },
        "outputId": "e809a606-55e9-4398-b3bd-b4be36447cec"
      },
      "source": [
        "history = model.fit(x = X_train, y = y_train, epochs=20, batch_size = 8 , shuffle=True, validation_split=0.2, callbacks=callbacks)"
      ],
      "execution_count": 21,
      "outputs": [
        {
          "output_type": "stream",
          "text": [
            "Epoch 1/20\n",
            "47/47 [==============================] - 47s 999ms/step - loss: 1.6748 - accuracy: 0.2674 - val_loss: 1.4795 - val_accuracy: 0.3830\n",
            "Epoch 2/20\n",
            "47/47 [==============================] - 47s 1s/step - loss: 1.4838 - accuracy: 0.3610 - val_loss: 1.5463 - val_accuracy: 0.2234\n",
            "Epoch 3/20\n",
            "47/47 [==============================] - 48s 1s/step - loss: 1.3158 - accuracy: 0.4706 - val_loss: 1.0442 - val_accuracy: 0.6702\n",
            "Epoch 4/20\n",
            "47/47 [==============================] - 48s 1s/step - loss: 1.0356 - accuracy: 0.5882 - val_loss: 1.4270 - val_accuracy: 0.4787\n",
            "Epoch 5/20\n",
            "47/47 [==============================] - 48s 1s/step - loss: 0.9091 - accuracy: 0.6551 - val_loss: 1.0872 - val_accuracy: 0.5426\n",
            "Epoch 6/20\n",
            "47/47 [==============================] - 48s 1s/step - loss: 0.5603 - accuracy: 0.8128 - val_loss: 0.5160 - val_accuracy: 0.8936\n",
            "Epoch 7/20\n",
            "47/47 [==============================] - 48s 1s/step - loss: 0.3419 - accuracy: 0.9091 - val_loss: 0.5059 - val_accuracy: 0.7979\n",
            "Epoch 8/20\n",
            "47/47 [==============================] - 48s 1s/step - loss: 0.3346 - accuracy: 0.8957 - val_loss: 0.4013 - val_accuracy: 0.8723\n",
            "Epoch 9/20\n",
            "47/47 [==============================] - 48s 1s/step - loss: 0.1808 - accuracy: 0.9733 - val_loss: 0.3244 - val_accuracy: 0.8830\n",
            "Epoch 10/20\n",
            "47/47 [==============================] - 48s 1s/step - loss: 0.0892 - accuracy: 0.9893 - val_loss: 0.2460 - val_accuracy: 0.9362\n",
            "Epoch 11/20\n",
            "47/47 [==============================] - 48s 1s/step - loss: 0.0536 - accuracy: 1.0000 - val_loss: 0.2568 - val_accuracy: 0.9255\n",
            "Epoch 12/20\n",
            "47/47 [==============================] - 48s 1s/step - loss: 0.0578 - accuracy: 0.9973 - val_loss: 0.2320 - val_accuracy: 0.9468\n",
            "Epoch 13/20\n",
            "47/47 [==============================] - 48s 1s/step - loss: 0.0451 - accuracy: 1.0000 - val_loss: 0.2089 - val_accuracy: 0.9468\n",
            "Epoch 14/20\n",
            "47/47 [==============================] - 48s 1s/step - loss: 0.0349 - accuracy: 1.0000 - val_loss: 0.2795 - val_accuracy: 0.8936\n",
            "Epoch 15/20\n",
            "47/47 [==============================] - 48s 1s/step - loss: 0.0251 - accuracy: 1.0000 - val_loss: 0.2173 - val_accuracy: 0.9362\n",
            "Epoch 16/20\n",
            "47/47 [==============================] - 48s 1s/step - loss: 0.0319 - accuracy: 1.0000 - val_loss: 0.2082 - val_accuracy: 0.9149\n",
            "Epoch 17/20\n",
            "47/47 [==============================] - 48s 1s/step - loss: 0.0240 - accuracy: 1.0000 - val_loss: 0.2030 - val_accuracy: 0.9362\n",
            "Epoch 18/20\n",
            "47/47 [==============================] - 49s 1s/step - loss: 0.0156 - accuracy: 1.0000 - val_loss: 0.1814 - val_accuracy: 0.9468\n",
            "Epoch 19/20\n",
            "47/47 [==============================] - 48s 1s/step - loss: 0.0207 - accuracy: 1.0000 - val_loss: 0.1708 - val_accuracy: 0.9574\n",
            "Epoch 20/20\n",
            "47/47 [==============================] - 48s 1s/step - loss: 0.0209 - accuracy: 1.0000 - val_loss: 0.1749 - val_accuracy: 0.9468\n"
          ],
          "name": "stdout"
        }
      ]
    },
    {
      "cell_type": "code",
      "metadata": {
        "id": "fpAmGtx2g6pX",
        "colab_type": "code",
        "colab": {
          "base_uri": "https://localhost:8080/",
          "height": 35
        },
        "outputId": "cb325834-8f48-4d9e-9356-2b84511162da"
      },
      "source": [
        "y_test.shape"
      ],
      "execution_count": 39,
      "outputs": [
        {
          "output_type": "execute_result",
          "data": {
            "text/plain": [
              "(118, 5)"
            ]
          },
          "metadata": {
            "tags": []
          },
          "execution_count": 39
        }
      ]
    },
    {
      "cell_type": "code",
      "metadata": {
        "id": "DIxn7AUyK88d",
        "colab_type": "code",
        "colab": {
          "base_uri": "https://localhost:8080/",
          "height": 225
        },
        "outputId": "6c0a43d9-f16e-4567-8a77-28b230a7f65b"
      },
      "source": [
        "y_pred = model.predict(X_test)\n",
        "\n",
        "y_pred = np.argmax(y_pred, axis = 1)\n",
        "y_test = np.argmax(y_test, axis = 1)\n",
        " \n",
        "print(classification_report(y_test, y_pred))"
      ],
      "execution_count": 40,
      "outputs": [
        {
          "output_type": "stream",
          "text": [
            "              precision    recall  f1-score   support\n",
            "\n",
            "           0       0.95      0.86      0.90        21\n",
            "           1       0.97      0.94      0.95        32\n",
            "           2       0.88      1.00      0.94        23\n",
            "           3       0.88      0.92      0.90        25\n",
            "           4       0.94      0.88      0.91        17\n",
            "\n",
            "    accuracy                           0.92       118\n",
            "   macro avg       0.92      0.92      0.92       118\n",
            "weighted avg       0.93      0.92      0.92       118\n",
            "\n"
          ],
          "name": "stdout"
        }
      ]
    },
    {
      "cell_type": "code",
      "metadata": {
        "id": "J_6KIRoMK8wY",
        "colab_type": "code",
        "colab": {}
      },
      "source": [
        "model.save('/content/drive/My Drive/video_data/model.h5')\n",
        "model.save_weights('/content/drive/My Drive/video_data/weights.h5')"
      ],
      "execution_count": 23,
      "outputs": []
    },
    {
      "cell_type": "code",
      "metadata": {
        "id": "siwLq9StbnMl",
        "colab_type": "code",
        "colab": {
          "base_uri": "https://localhost:8080/",
          "height": 35
        },
        "outputId": "27669a9f-f728-4f67-9913-baa20e4d0494"
      },
      "source": [
        "y_pred[50], y_test[50]"
      ],
      "execution_count": 42,
      "outputs": [
        {
          "output_type": "execute_result",
          "data": {
            "text/plain": [
              "(4, 4)"
            ]
          },
          "metadata": {
            "tags": []
          },
          "execution_count": 42
        }
      ]
    },
    {
      "cell_type": "code",
      "metadata": {
        "id": "5c-ZwR3XlrIn",
        "colab_type": "code",
        "colab": {}
      },
      "source": [
        ""
      ],
      "execution_count": null,
      "outputs": []
    }
  ]
}